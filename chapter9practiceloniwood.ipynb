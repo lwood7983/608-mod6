{
 "cells": [
  {
   "cell_type": "code",
   "execution_count": 1,
   "id": "a38ac4f9-41f9-4f39-9d07-cf2323fec611",
   "metadata": {},
   "outputs": [
    {
     "name": "stdout",
     "output_type": "stream",
     "text": [
      "Account   Name         Balance\n",
      "100       Jones          24.98\n",
      "200       Smith         345.67\n",
      "300       Williams        0.00\n",
      "400       Stone         -42.16\n",
      "500       Rich          224.62\n"
     ]
    }
   ],
   "source": [
    "with open('accounts.txt', mode='r') as accounts:\n",
    "    print(f'{\"Account\":<10}{\"Name\":<10}{\"Balance\":>10}')\n",
    "    for record in accounts:\n",
    "        account, name, balance = record.split()\n",
    "        print(f'{account:<10}{name:<10}{balance:>10}')"
   ]
  },
  {
   "cell_type": "code",
   "execution_count": 2,
   "id": "e582cb7f-f429-4f45-a239-d228f8233978",
   "metadata": {},
   "outputs": [
    {
     "name": "stdout",
     "output_type": "stream",
     "text": [
      "ID  Name   Grade\n",
      "1   Red    A\n",
      "2   Green  B\n",
      "3   Whtie  A\n"
     ]
    }
   ],
   "source": [
    "with open('grades.txt', 'r') as grades:\n",
    "    print(f'{\"ID\":<4}{\"Name\":<7}{\"Grade\"}')\n",
    "    for record in grades:\n",
    "        student_id, name, grade = record.split()\n",
    "        print(f'{student_id:<4}{name:<7}{grade}')"
   ]
  },
  {
   "cell_type": "code",
   "execution_count": 3,
   "id": "0a9a9852-2563-4358-a28f-b2bc523395c2",
   "metadata": {},
   "outputs": [],
   "source": [
    "accounts = open('accounts.txt', 'r')"
   ]
  },
  {
   "cell_type": "code",
   "execution_count": 4,
   "id": "431254d5-0e75-4b81-a1a9-dd4a02ac59e1",
   "metadata": {},
   "outputs": [],
   "source": [
    "temp_file = open('temp_file.txt', 'w')"
   ]
  },
  {
   "cell_type": "code",
   "execution_count": 5,
   "id": "0ad35e89-0eba-4a13-ae83-9f28cd9f6a7a",
   "metadata": {},
   "outputs": [],
   "source": [
    "with accounts, temp_file:\n",
    "    for record in accounts:\n",
    "        account, name, balance = record.split()\n",
    "        if account !='300':\n",
    "            temp_file.write(record)\n",
    "        else:\n",
    "            new_record = ' '.join([account, 'Williams', balance])\n",
    "            temp_file.write(new_record +'\\n')"
   ]
  },
  {
   "cell_type": "code",
   "execution_count": 6,
   "id": "89f20af0-f753-49f7-b08a-2deba9454251",
   "metadata": {},
   "outputs": [],
   "source": [
    "import os"
   ]
  },
  {
   "cell_type": "code",
   "execution_count": 7,
   "id": "5f1e6bc0-26f7-448d-ba7d-772534a2f5e3",
   "metadata": {},
   "outputs": [],
   "source": [
    "os.remove('accounts.txt')"
   ]
  },
  {
   "cell_type": "code",
   "execution_count": 8,
   "id": "663cb7aa-b8ad-45eb-82af-3479ac097524",
   "metadata": {},
   "outputs": [],
   "source": [
    "os.rename('temp_file.txt', 'accounts.txt')"
   ]
  },
  {
   "cell_type": "code",
   "execution_count": 9,
   "id": "68d62ba3-d2b1-44f9-80fa-60ec6cd42e67",
   "metadata": {},
   "outputs": [],
   "source": [
    "# Self Check"
   ]
  },
  {
   "cell_type": "code",
   "execution_count": 10,
   "id": "c45f2aba-ac51-4b0e-a99e-b5e9dc38a7d1",
   "metadata": {},
   "outputs": [],
   "source": [
    "accounts = open('accounts.txt', 'r')"
   ]
  },
  {
   "cell_type": "code",
   "execution_count": 11,
   "id": "8ecabe41-71b6-4226-b333-3c6c0df2836a",
   "metadata": {},
   "outputs": [],
   "source": [
    "temp_file = open('temp_file.txt', 'w')"
   ]
  },
  {
   "cell_type": "code",
   "execution_count": 12,
   "id": "c52985f2-de99-4efa-a8d2-53e58e2afcf3",
   "metadata": {},
   "outputs": [],
   "source": [
    "with accounts, temp_file:\n",
    "    for record in accounts:\n",
    "        account, name, balance = record.split()\n",
    "        if name != 'Doe':\n",
    "            temp_file.write(record)\n",
    "        else:\n",
    "            new_record = ' '.join([account, 'Smith', balance])\n",
    "            temp_file.write(new_record + '\\n')"
   ]
  },
  {
   "cell_type": "code",
   "execution_count": 13,
   "id": "dbaaac2b-eb03-4441-ab1a-1b94de892c85",
   "metadata": {},
   "outputs": [],
   "source": [
    "import os"
   ]
  },
  {
   "cell_type": "code",
   "execution_count": 14,
   "id": "544d04b2-4725-482a-9912-831fb8d26683",
   "metadata": {},
   "outputs": [],
   "source": [
    "os.remove('accounts.txt')"
   ]
  },
  {
   "cell_type": "code",
   "execution_count": 15,
   "id": "218f75ed-363c-49dc-9f30-9d83e6985823",
   "metadata": {},
   "outputs": [],
   "source": [
    "os.rename('temp_file.txt', 'accounts.txt')"
   ]
  },
  {
   "cell_type": "code",
   "execution_count": 16,
   "id": "52dff782-2629-4456-a3ae-cddecbe2d1db",
   "metadata": {},
   "outputs": [],
   "source": [
    "accounts_dict = {'accounts': [\n",
    "    {'account': 100, 'name': 'Jones', 'balance': 24.98},\n",
    "    {'account': 200, 'name': 'Doe', 'balance': 345.67}]}"
   ]
  },
  {
   "cell_type": "code",
   "execution_count": 17,
   "id": "957c2668-3450-4725-878c-e03340f330ea",
   "metadata": {},
   "outputs": [],
   "source": [
    "import json"
   ]
  },
  {
   "cell_type": "code",
   "execution_count": 18,
   "id": "4e8e59ce-0b35-41cf-943c-8f7c7c8cdeb0",
   "metadata": {},
   "outputs": [],
   "source": [
    "with open('accounts.json', 'w') as accounts:\n",
    "    json.dump(accounts_dict, accounts)"
   ]
  },
  {
   "cell_type": "code",
   "execution_count": 19,
   "id": "aa110c1b-eeb8-4833-bceb-981345901e88",
   "metadata": {},
   "outputs": [],
   "source": [
    "with open('accounts.json', 'r') as accounts:\n",
    "          accounts_json = json.load(accounts)"
   ]
  },
  {
   "cell_type": "code",
   "execution_count": 20,
   "id": "c5adea92-d6eb-4469-a90a-b03d37e66e3d",
   "metadata": {},
   "outputs": [
    {
     "data": {
      "text/plain": [
       "{'accounts': [{'account': 100, 'name': 'Jones', 'balance': 24.98},\n",
       "  {'account': 200, 'name': 'Doe', 'balance': 345.67}]}"
      ]
     },
     "execution_count": 20,
     "metadata": {},
     "output_type": "execute_result"
    }
   ],
   "source": [
    "accounts_json"
   ]
  },
  {
   "cell_type": "code",
   "execution_count": 21,
   "id": "0ab2cbb1-4774-47da-9f1a-6c8fe920f937",
   "metadata": {},
   "outputs": [
    {
     "data": {
      "text/plain": [
       "[{'account': 100, 'name': 'Jones', 'balance': 24.98},\n",
       " {'account': 200, 'name': 'Doe', 'balance': 345.67}]"
      ]
     },
     "execution_count": 21,
     "metadata": {},
     "output_type": "execute_result"
    }
   ],
   "source": [
    "accounts_json['accounts']"
   ]
  },
  {
   "cell_type": "code",
   "execution_count": 22,
   "id": "e7ec940c-17b8-4796-a799-a6e55add16ba",
   "metadata": {},
   "outputs": [
    {
     "data": {
      "text/plain": [
       "[{'account': 100, 'name': 'Jones', 'balance': 24.98},\n",
       " {'account': 200, 'name': 'Doe', 'balance': 345.67}]"
      ]
     },
     "execution_count": 22,
     "metadata": {},
     "output_type": "execute_result"
    }
   ],
   "source": [
    "accounts_json['accounts']"
   ]
  },
  {
   "cell_type": "code",
   "execution_count": 23,
   "id": "ee52e592-6318-483f-a495-78128b6ea645",
   "metadata": {},
   "outputs": [
    {
     "data": {
      "text/plain": [
       "{'account': 100, 'name': 'Jones', 'balance': 24.98}"
      ]
     },
     "execution_count": 23,
     "metadata": {},
     "output_type": "execute_result"
    }
   ],
   "source": [
    "accounts_json['accounts'][0]"
   ]
  },
  {
   "cell_type": "code",
   "execution_count": 24,
   "id": "38adcab1-aa73-4608-b010-37b4f96b3b3a",
   "metadata": {},
   "outputs": [
    {
     "data": {
      "text/plain": [
       "{'account': 200, 'name': 'Doe', 'balance': 345.67}"
      ]
     },
     "execution_count": 24,
     "metadata": {},
     "output_type": "execute_result"
    }
   ],
   "source": [
    "accounts_json['accounts'][1]"
   ]
  },
  {
   "cell_type": "code",
   "execution_count": 25,
   "id": "cc98de52-6eae-4916-a9a5-cddbe4e4fd4a",
   "metadata": {},
   "outputs": [
    {
     "name": "stdout",
     "output_type": "stream",
     "text": [
      "{\n",
      "    \"accounts\": [\n",
      "        {\n",
      "            \"account\": 100,\n",
      "            \"name\": \"Jones\",\n",
      "            \"balance\": 24.98\n",
      "        },\n",
      "        {\n",
      "            \"account\": 200,\n",
      "            \"name\": \"Doe\",\n",
      "            \"balance\": 345.67\n",
      "        }\n",
      "    ]\n",
      "}\n"
     ]
    }
   ],
   "source": [
    "with open('accounts.json', 'r') as accounts:\n",
    "    print(json.dumps(json.load(accounts), indent=4))"
   ]
  },
  {
   "cell_type": "code",
   "execution_count": 26,
   "id": "71147e0a-eb7c-4cd0-9869-d0232b7d946a",
   "metadata": {},
   "outputs": [],
   "source": [
    "#Self Check"
   ]
  },
  {
   "cell_type": "code",
   "execution_count": 27,
   "id": "b597819e-a25a-4e89-83cd-b025498a9fda",
   "metadata": {},
   "outputs": [],
   "source": [
    "import json"
   ]
  },
  {
   "cell_type": "code",
   "execution_count": 28,
   "id": "79ebd17b-09cc-458d-a19c-f968fb056228",
   "metadata": {},
   "outputs": [],
   "source": [
    "grades_dict = {'gradebook':\n",
    "    [{'student_id': 1, 'name': 'Red', 'grade': 'A'},\n",
    "     {'student_id': 2, 'name': 'Green', 'grade': 'B'},\n",
    "     {'student_id': 3, 'name': 'White', 'grade': 'A'}]}"
   ]
  },
  {
   "cell_type": "code",
   "execution_count": 29,
   "id": "dd0ec762-49b6-4eb7-b091-87104dc8e118",
   "metadata": {},
   "outputs": [],
   "source": [
    "with open('grades.json', 'w') as grades:\n",
    "    json.dump(grades_dict, grades)"
   ]
  },
  {
   "cell_type": "code",
   "execution_count": 30,
   "id": "1a63f419-1a0c-4e59-87e6-760c0a616002",
   "metadata": {},
   "outputs": [
    {
     "name": "stdout",
     "output_type": "stream",
     "text": [
      "{\n",
      "    \"gradebook\": [\n",
      "        {\n",
      "            \"student_id\": 1,\n",
      "            \"name\": \"Red\",\n",
      "            \"grade\": \"A\"\n",
      "        },\n",
      "        {\n",
      "            \"student_id\": 2,\n",
      "            \"name\": \"Green\",\n",
      "            \"grade\": \"B\"\n",
      "        },\n",
      "        {\n",
      "            \"student_id\": 3,\n",
      "            \"name\": \"White\",\n",
      "            \"grade\": \"A\"\n",
      "        }\n",
      "    ]\n",
      "}\n"
     ]
    }
   ],
   "source": [
    "with open('grades.json', 'r') as grades:\n",
    "    print(json.dumps(json.load(grades), indent=4))"
   ]
  },
  {
   "cell_type": "code",
   "execution_count": 31,
   "id": "44310d0e-3c67-432d-98bf-d4a2cf4a1b5c",
   "metadata": {},
   "outputs": [],
   "source": [
    "# dividebyzero.py"
   ]
  },
  {
   "cell_type": "code",
   "execution_count": 32,
   "id": "ffc9cc34-ab01-4149-a56a-12e7b0055ff4",
   "metadata": {},
   "outputs": [
    {
     "data": {
      "text/plain": [
       "'Simple exception handling example.'"
      ]
     },
     "execution_count": 32,
     "metadata": {},
     "output_type": "execute_result"
    }
   ],
   "source": [
    "\"\"\"Simple exception handling example.\"\"\""
   ]
  },
  {
   "cell_type": "code",
   "execution_count": 33,
   "id": "04dc3ccd-7c52-4b09-aeb4-b5f041a97465",
   "metadata": {},
   "outputs": [
    {
     "name": "stdin",
     "output_type": "stream",
     "text": [
      "Enter numerator:  100\n",
      "Enter denominator:  0\n"
     ]
    },
    {
     "name": "stdout",
     "output_type": "stream",
     "text": [
      "Attempted to divide by zero\n",
      "\n"
     ]
    },
    {
     "name": "stdin",
     "output_type": "stream",
     "text": [
      "Enter numerator:  100\n",
      "Enter denominator:  hello\n"
     ]
    },
    {
     "name": "stdout",
     "output_type": "stream",
     "text": [
      "You must enter two integers\n",
      "\n"
     ]
    },
    {
     "name": "stdin",
     "output_type": "stream",
     "text": [
      "Enter numerator:  100\n",
      "Enter denominator:  7\n"
     ]
    },
    {
     "name": "stdout",
     "output_type": "stream",
     "text": [
      "100.000 / 7.000 = 14.286\n"
     ]
    }
   ],
   "source": [
    "while True:\n",
    "    try:\n",
    "        number1 = int(input('Enter numerator: '))\n",
    "        number2 = int(input('Enter denominator: '))\n",
    "        result = number1 / number2\n",
    "    except ValueError:\n",
    "        print('You must enter two integers\\n')\n",
    "    except ZeroDivisionError:\n",
    "        print('Attempted to divide by zero\\n')\n",
    "    else:\n",
    "        print(f'{number1:.3f} / {number2:.3f} = {result:.3f}')\n",
    "        break"
   ]
  },
  {
   "cell_type": "code",
   "execution_count": 34,
   "id": "2ff9ef11-c0cc-4c27-910c-7fcc4c0f72e4",
   "metadata": {},
   "outputs": [],
   "source": [
    "#Self Check"
   ]
  },
  {
   "cell_type": "code",
   "execution_count": 35,
   "id": "6c17dc2c-0c77-42c6-a029-31a798f2860d",
   "metadata": {},
   "outputs": [],
   "source": [
    "def try_it(value):\n",
    "    try:\n",
    "        x = int(value)\n",
    "    except ValueError:\n",
    "        print(f'{value} could not be converted to an integer')\n",
    "    else:\n",
    "        print(f'int{value}) is {int(value)}')"
   ]
  },
  {
   "cell_type": "code",
   "execution_count": 36,
   "id": "0b87e78c-6fd5-425d-bb72-994f8e888ab6",
   "metadata": {},
   "outputs": [
    {
     "name": "stdout",
     "output_type": "stream",
     "text": [
      "int10.7) is 10\n"
     ]
    }
   ],
   "source": [
    "try_it(10.7)"
   ]
  },
  {
   "cell_type": "code",
   "execution_count": 37,
   "id": "bba86754-954c-4f04-8f3b-a0ee5c071c01",
   "metadata": {},
   "outputs": [
    {
     "name": "stdout",
     "output_type": "stream",
     "text": [
      "Python could not be converted to an integer\n"
     ]
    }
   ],
   "source": [
    "try_it('Python')"
   ]
  },
  {
   "cell_type": "code",
   "execution_count": 38,
   "id": "ea0a1c3c-d099-4451-9419-89ab79e55905",
   "metadata": {},
   "outputs": [
    {
     "name": "stdout",
     "output_type": "stream",
     "text": [
      "try suite with no exceptions raised\n",
      "else executes because no exceptions in the try suite\n",
      "finally always execute\n"
     ]
    }
   ],
   "source": [
    "try:\n",
    "    print('try suite with no exceptions raised')\n",
    "except:\n",
    "    ('this will not execute')\n",
    "else:\n",
    "    print('else executes because no exceptions in the try suite')\n",
    "finally:\n",
    "    print('finally always execute')"
   ]
  },
  {
   "cell_type": "code",
   "execution_count": 39,
   "id": "094993c4-5ab6-4d9b-a3da-8d50c1e47dd1",
   "metadata": {},
   "outputs": [
    {
     "name": "stdout",
     "output_type": "stream",
     "text": [
      "try suite that raises an exception\n",
      "a ValueError occured\n",
      "finally always executes\n"
     ]
    }
   ],
   "source": [
    "try:\n",
    "    print('try suite that raises an exception')\n",
    "    int('hello')\n",
    "    print('this will not execute')\n",
    "except ValueError:\n",
    "    print('a ValueError occured')\n",
    "else:\n",
    "    print('else will not execute because an exception occurred')\n",
    "finally:\n",
    "    print('finally always executes')"
   ]
  },
  {
   "cell_type": "code",
   "execution_count": 40,
   "id": "f5a41c66-48e4-434d-b498-9ec8f1690e3f",
   "metadata": {},
   "outputs": [
    {
     "ename": "FileNotFoundError",
     "evalue": "[Errno 2] No such file or directory: 'gradez.txt'",
     "output_type": "error",
     "traceback": [
      "\u001b[1;31m---------------------------------------------------------------------------\u001b[0m",
      "\u001b[1;31mFileNotFoundError\u001b[0m                         Traceback (most recent call last)",
      "Input \u001b[1;32mIn [40]\u001b[0m, in \u001b[0;36m<module>\u001b[1;34m\u001b[0m\n\u001b[1;32m----> 1\u001b[0m \u001b[38;5;28;43mopen\u001b[39;49m\u001b[43m(\u001b[49m\u001b[38;5;124;43m'\u001b[39;49m\u001b[38;5;124;43mgradez.txt\u001b[39;49m\u001b[38;5;124;43m'\u001b[39;49m\u001b[43m)\u001b[49m\n",
      "\u001b[1;31mFileNotFoundError\u001b[0m: [Errno 2] No such file or directory: 'gradez.txt'"
     ]
    }
   ],
   "source": [
    "open('gradez.txt')"
   ]
  },
  {
   "cell_type": "code",
   "execution_count": 41,
   "id": "3ff113d1-4e39-4fe2-a927-e466b45d9e29",
   "metadata": {},
   "outputs": [
    {
     "name": "stdout",
     "output_type": "stream",
     "text": [
      "The file name you specified does not exist\n"
     ]
    }
   ],
   "source": [
    "try:\n",
    "    with open('gradez.txt', 'r') as accounts:\n",
    "        print('f{\"ID\":<3}{\"Name\":<7}{\"Grade\"}')\n",
    "        for record in accounts:\n",
    "            student_id, name, grade = record.split()\n",
    "            print(f'{student_id<3}{name:7}{grade}')\n",
    "except FileNotFoundError:\n",
    "        print('The file name you specified does not exist')"
   ]
  },
  {
   "cell_type": "code",
   "execution_count": 42,
   "id": "fc51a27b-1950-4f81-81ed-1cbe6a345a35",
   "metadata": {},
   "outputs": [],
   "source": [
    "# Self Check"
   ]
  },
  {
   "cell_type": "code",
   "execution_count": 43,
   "id": "512430f2-2e77-4568-a7e8-77ce695e8087",
   "metadata": {},
   "outputs": [],
   "source": [
    "def try_it(value):\n",
    "    try:\n",
    "        x = int(value)\n",
    "    except ValueError:\n",
    "        print(f'{value} count not be converted to an integer')\n",
    "    else:\n",
    "        print(f'int({value}) is {int(value)}')\n",
    "    finally:\n",
    "        print('finally executed')"
   ]
  },
  {
   "cell_type": "code",
   "execution_count": 44,
   "id": "a340003e-0ada-444f-a42e-8e9007a25b6e",
   "metadata": {},
   "outputs": [
    {
     "name": "stdout",
     "output_type": "stream",
     "text": [
      "int(10.7) is 10\n",
      "finally executed\n"
     ]
    }
   ],
   "source": [
    "try_it(10.7)"
   ]
  },
  {
   "cell_type": "code",
   "execution_count": 45,
   "id": "449923c8-5e53-47ef-905e-73cd0a4242cc",
   "metadata": {},
   "outputs": [
    {
     "name": "stdout",
     "output_type": "stream",
     "text": [
      "Python count not be converted to an integer\n",
      "finally executed\n"
     ]
    }
   ],
   "source": [
    "try_it('Python')"
   ]
  },
  {
   "cell_type": "code",
   "execution_count": 46,
   "id": "131da146-43db-4690-9f92-ec8a617271e3",
   "metadata": {},
   "outputs": [],
   "source": [
    "def function1():\n",
    "    function2()\n"
   ]
  },
  {
   "cell_type": "code",
   "execution_count": 47,
   "id": "513b4e5f-f33a-4655-9616-e5ae0a03a79c",
   "metadata": {},
   "outputs": [],
   "source": [
    "def function2():\n",
    "    raise Exception('An exception occurred')\n"
   ]
  },
  {
   "cell_type": "code",
   "execution_count": 48,
   "id": "0377c7e1-71e3-44bc-9e83-f397bce6e163",
   "metadata": {},
   "outputs": [
    {
     "ename": "Exception",
     "evalue": "An exception occurred",
     "output_type": "error",
     "traceback": [
      "\u001b[1;31m---------------------------------------------------------------------------\u001b[0m",
      "\u001b[1;31mException\u001b[0m                                 Traceback (most recent call last)",
      "Input \u001b[1;32mIn [48]\u001b[0m, in \u001b[0;36m<module>\u001b[1;34m\u001b[0m\n\u001b[1;32m----> 1\u001b[0m \u001b[43mfunction1\u001b[49m\u001b[43m(\u001b[49m\u001b[43m)\u001b[49m\n",
      "Input \u001b[1;32mIn [46]\u001b[0m, in \u001b[0;36mfunction1\u001b[1;34m()\u001b[0m\n\u001b[0;32m      1\u001b[0m \u001b[38;5;28;01mdef\u001b[39;00m \u001b[38;5;21mfunction1\u001b[39m():\n\u001b[1;32m----> 2\u001b[0m     \u001b[43mfunction2\u001b[49m\u001b[43m(\u001b[49m\u001b[43m)\u001b[49m\n",
      "Input \u001b[1;32mIn [47]\u001b[0m, in \u001b[0;36mfunction2\u001b[1;34m()\u001b[0m\n\u001b[0;32m      1\u001b[0m \u001b[38;5;28;01mdef\u001b[39;00m \u001b[38;5;21mfunction2\u001b[39m():\n\u001b[1;32m----> 2\u001b[0m     \u001b[38;5;28;01mraise\u001b[39;00m \u001b[38;5;167;01mException\u001b[39;00m(\u001b[38;5;124m'\u001b[39m\u001b[38;5;124mAn exception occurred\u001b[39m\u001b[38;5;124m'\u001b[39m)\n",
      "\u001b[1;31mException\u001b[0m: An exception occurred"
     ]
    }
   ],
   "source": [
    "function1()"
   ]
  },
  {
   "cell_type": "code",
   "execution_count": 49,
   "id": "f3571b77-1614-4184-ae52-8ce4ca836b57",
   "metadata": {},
   "outputs": [],
   "source": [
    "import csv"
   ]
  },
  {
   "cell_type": "code",
   "execution_count": 50,
   "id": "26fc86c5-d000-4681-9793-05b1067c7a87",
   "metadata": {},
   "outputs": [],
   "source": [
    "with open('accounts.csv', mode='w', newline='') as accounts:\n",
    "    writer = csv.writer(accounts)\n",
    "    writer.writerow([100, 'Jones', 24.98])\n",
    "    writer.writerow([200, 'Doe', 345.67])\n",
    "    writer.writerow([300, 'White', 0.00])\n",
    "    writer.writerow([400, 'Stone', -42.16])\n",
    "    writer.writerow([500, 'Rich', 224.63])"
   ]
  },
  {
   "cell_type": "code",
   "execution_count": 51,
   "id": "b2785e89-535a-4a05-8ebd-f344deffb428",
   "metadata": {},
   "outputs": [
    {
     "name": "stdout",
     "output_type": "stream",
     "text": [
      "Account   Name         Balance\n",
      "100       Jones          24.98\n",
      "200       Doe           345.67\n",
      "300       White            0.0\n",
      "400       Stone         -42.16\n",
      "500       Rich          224.63\n"
     ]
    }
   ],
   "source": [
    "with open('accounts.csv', 'r', newline='') as accounts:\n",
    "    print(f'{\"Account\":<10}{\"Name\":<10}{\"Balance\":>10}')\n",
    "    reader = csv.reader(accounts)\n",
    "    for record in reader:\n",
    "        account, name, balance = record\n",
    "        print(f'{account:<10}{name:<10}{balance:>10}')"
   ]
  },
  {
   "cell_type": "code",
   "execution_count": 52,
   "id": "98b7cc46-14cf-4be1-badd-ecf8dc424065",
   "metadata": {},
   "outputs": [],
   "source": [
    "#Self Check"
   ]
  },
  {
   "cell_type": "code",
   "execution_count": 53,
   "id": "aabc2d5b-0395-44e8-98da-95c54e2299d1",
   "metadata": {},
   "outputs": [],
   "source": [
    "import csv"
   ]
  },
  {
   "cell_type": "code",
   "execution_count": 54,
   "id": "4a4e3f78-21a3-42b8-b863-8dc93f089c2c",
   "metadata": {},
   "outputs": [],
   "source": [
    "with open('grades.csv', mode='w', newline='') as grades:\n",
    "    writer = csv.writer(grades)\n",
    "    writer.writerow([1, 'Red','A'])\n",
    "    writer.writerow([2, 'Green', 'B'])\n",
    "    writer.writerow([3, 'White', 'A'])"
   ]
  },
  {
   "cell_type": "code",
   "execution_count": 55,
   "id": "a43eec21-174f-403c-bdfe-02d1e04c4fc9",
   "metadata": {},
   "outputs": [
    {
     "name": "stdout",
     "output_type": "stream",
     "text": [
      "ID  Name   Grade\n",
      "1   Red    A\n",
      "2   Green  B\n",
      "3   White  A\n"
     ]
    }
   ],
   "source": [
    "with open('grades.csv', 'r', newline='') as grades:\n",
    "    print(f'{\"ID\":<4}{\"Name\":<7}{\"Grade\"}')\n",
    "    reader = csv.reader(grades)\n",
    "    for record in reader:\n",
    "        student_id, name, grade = record\n",
    "        print(f'{student_id:<4}{name:<7}{grade:}')"
   ]
  },
  {
   "cell_type": "code",
   "execution_count": 56,
   "id": "17c531f0-b34c-4cb0-b5b1-56352c678fb9",
   "metadata": {},
   "outputs": [],
   "source": [
    "import pandas as pd"
   ]
  },
  {
   "cell_type": "code",
   "execution_count": 57,
   "id": "fda4966c-5974-4b43-867f-757182bf7224",
   "metadata": {},
   "outputs": [],
   "source": [
    "df = pd.read_csv('accounts.csv',\n",
    "                 names=['account', 'name', 'balance'])"
   ]
  },
  {
   "cell_type": "code",
   "execution_count": 58,
   "id": "0985d2c3-9151-424b-bdbd-3ae4ef47e2b1",
   "metadata": {},
   "outputs": [
    {
     "data": {
      "text/html": [
       "<div>\n",
       "<style scoped>\n",
       "    .dataframe tbody tr th:only-of-type {\n",
       "        vertical-align: middle;\n",
       "    }\n",
       "\n",
       "    .dataframe tbody tr th {\n",
       "        vertical-align: top;\n",
       "    }\n",
       "\n",
       "    .dataframe thead th {\n",
       "        text-align: right;\n",
       "    }\n",
       "</style>\n",
       "<table border=\"1\" class=\"dataframe\">\n",
       "  <thead>\n",
       "    <tr style=\"text-align: right;\">\n",
       "      <th></th>\n",
       "      <th>account</th>\n",
       "      <th>name</th>\n",
       "      <th>balance</th>\n",
       "    </tr>\n",
       "  </thead>\n",
       "  <tbody>\n",
       "    <tr>\n",
       "      <th>0</th>\n",
       "      <td>100</td>\n",
       "      <td>Jones</td>\n",
       "      <td>24.98</td>\n",
       "    </tr>\n",
       "    <tr>\n",
       "      <th>1</th>\n",
       "      <td>200</td>\n",
       "      <td>Doe</td>\n",
       "      <td>345.67</td>\n",
       "    </tr>\n",
       "    <tr>\n",
       "      <th>2</th>\n",
       "      <td>300</td>\n",
       "      <td>White</td>\n",
       "      <td>0.00</td>\n",
       "    </tr>\n",
       "    <tr>\n",
       "      <th>3</th>\n",
       "      <td>400</td>\n",
       "      <td>Stone</td>\n",
       "      <td>-42.16</td>\n",
       "    </tr>\n",
       "    <tr>\n",
       "      <th>4</th>\n",
       "      <td>500</td>\n",
       "      <td>Rich</td>\n",
       "      <td>224.63</td>\n",
       "    </tr>\n",
       "  </tbody>\n",
       "</table>\n",
       "</div>"
      ],
      "text/plain": [
       "   account   name  balance\n",
       "0      100  Jones    24.98\n",
       "1      200    Doe   345.67\n",
       "2      300  White     0.00\n",
       "3      400  Stone   -42.16\n",
       "4      500   Rich   224.63"
      ]
     },
     "execution_count": 58,
     "metadata": {},
     "output_type": "execute_result"
    }
   ],
   "source": [
    "df"
   ]
  },
  {
   "cell_type": "code",
   "execution_count": 59,
   "id": "b3e0a83a-7c17-48f9-8320-0a18600c322c",
   "metadata": {},
   "outputs": [],
   "source": [
    "df.to_csv('accounts_from_dataframe.csv', index=False)"
   ]
  },
  {
   "cell_type": "code",
   "execution_count": 60,
   "id": "38631d44-f02a-400a-a21a-b36848c691c4",
   "metadata": {},
   "outputs": [],
   "source": [
    "#Self Check"
   ]
  },
  {
   "cell_type": "code",
   "execution_count": 61,
   "id": "05bec902-673e-4070-bbb9-0e3b64e74e11",
   "metadata": {},
   "outputs": [
    {
     "data": {
      "text/html": [
       "<div>\n",
       "<style scoped>\n",
       "    .dataframe tbody tr th:only-of-type {\n",
       "        vertical-align: middle;\n",
       "    }\n",
       "\n",
       "    .dataframe tbody tr th {\n",
       "        vertical-align: top;\n",
       "    }\n",
       "\n",
       "    .dataframe thead th {\n",
       "        text-align: right;\n",
       "    }\n",
       "</style>\n",
       "<table border=\"1\" class=\"dataframe\">\n",
       "  <thead>\n",
       "    <tr style=\"text-align: right;\">\n",
       "      <th></th>\n",
       "      <th>ID</th>\n",
       "      <th>Name</th>\n",
       "      <th>Grades</th>\n",
       "    </tr>\n",
       "  </thead>\n",
       "  <tbody>\n",
       "    <tr>\n",
       "      <th>0</th>\n",
       "      <td>1</td>\n",
       "      <td>Red</td>\n",
       "      <td>A</td>\n",
       "    </tr>\n",
       "    <tr>\n",
       "      <th>1</th>\n",
       "      <td>2</td>\n",
       "      <td>Green</td>\n",
       "      <td>B</td>\n",
       "    </tr>\n",
       "    <tr>\n",
       "      <th>2</th>\n",
       "      <td>3</td>\n",
       "      <td>White</td>\n",
       "      <td>A</td>\n",
       "    </tr>\n",
       "  </tbody>\n",
       "</table>\n",
       "</div>"
      ],
      "text/plain": [
       "   ID   Name Grades\n",
       "0   1    Red      A\n",
       "1   2  Green      B\n",
       "2   3  White      A"
      ]
     },
     "execution_count": 61,
     "metadata": {},
     "output_type": "execute_result"
    }
   ],
   "source": [
    "pd.read_csv('grades.csv', names=['ID', 'Name', 'Grades'])"
   ]
  }
 ],
 "metadata": {
  "kernelspec": {
   "display_name": "Python 3 (ipykernel)",
   "language": "python",
   "name": "python3"
  },
  "language_info": {
   "codemirror_mode": {
    "name": "ipython",
    "version": 3
   },
   "file_extension": ".py",
   "mimetype": "text/x-python",
   "name": "python",
   "nbconvert_exporter": "python",
   "pygments_lexer": "ipython3",
   "version": "3.9.7"
  }
 },
 "nbformat": 4,
 "nbformat_minor": 5
}
